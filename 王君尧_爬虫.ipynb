{
 "cells": [
  {
   "cell_type": "code",
   "execution_count": 356,
   "metadata": {},
   "outputs": [],
   "source": [
    "import re\n",
    "from selenium import webdriver\n",
    "import time\n",
    "import os\n",
    "import pandas as pd\n",
    "import numpy as np\n",
    "import random\n",
    "from selenium.webdriver.common.action_chains import ActionChains"
   ]
  },
  {
   "cell_type": "code",
   "execution_count": null,
   "metadata": {},
   "outputs": [],
   "source": [
    "# 我使用selenium+firefox drive 进行模拟点击爬取，为防止被反爬我一般将操作时间间隔设为3秒。\n",
    "# 目前登录自动化会存在问题，会有滑动验证存在需要手动操作。"
   ]
  },
  {
   "cell_type": "code",
   "execution_count": 369,
   "metadata": {},
   "outputs": [],
   "source": [
    "url = 'https://www.tianyancha.com'\n",
    "driver = webdriver.Firefox()\n",
    "driver.get(url)\n",
    "time.sleep(2)\n",
    "driver.refresh()"
   ]
  },
  {
   "cell_type": "code",
   "execution_count": 261,
   "metadata": {},
   "outputs": [],
   "source": [
    "# 输入用户名和密码\n",
    "username=13166007797\n",
    "password=\"chy13579\""
   ]
  },
  {
   "cell_type": "code",
   "execution_count": 371,
   "metadata": {},
   "outputs": [],
   "source": [
    "# 会遇到滑动验证，如果没有成功点击尝试多次运行本段\n",
    "driver.find_element_by_xpath(\"//*[@onclick='header.loginLink(event)']\").click()\n",
    "driver.find_element_by_xpath(\"//*[text()='密码登录']\").click()\n",
    "driver.find_element_by_xpath(\"//*[@id='mobile']\").send_keys(username)\n",
    "driver.find_element_by_xpath(\"//*[@id='password']\").send_keys(password)\n",
    "driver.find_element_by_xpath(\"//*[text()='登录']\").click()"
   ]
  },
  {
   "cell_type": "code",
   "execution_count": 372,
   "metadata": {},
   "outputs": [],
   "source": [
    "# 使用搜索框进行搜索\n",
    "word = \"晨兴资本\" # 搜索内容\n",
    "driver.find_element_by_xpath(\".//*[@id='home-main-search']\").send_keys(word)  \n",
    "driver.find_element_by_xpath(\".//*[@class='input-group-btn btn -xl' and contains(@onclick,'main')]\").click()  "
   ]
  },
  {
   "cell_type": "code",
   "execution_count": 373,
   "metadata": {},
   "outputs": [
    {
     "name": "stdout",
     "output_type": "stream",
     "text": [
      "https://www.tianyancha.com/organize/b52133021\n"
     ]
    }
   ],
   "source": [
    "# 获取企业专页\n",
    "base = driver.find_element_by_xpath(\"//div[@class='position-rel']/a\")\n",
    "url = base.get_attribute(\"href\")\n",
    "print(url)"
   ]
  },
  {
   "cell_type": "code",
   "execution_count": 412,
   "metadata": {},
   "outputs": [],
   "source": [
    "# 进入页面， 搜寻表格\n",
    "driver.get(url)\n",
    "table_public = driver.find_element_by_xpath(\"//span[@class = 'text' and contains(text(), '公开投资事件')]/../../div[@class='block-data']/div/table\")"
   ]
  },
  {
   "cell_type": "code",
   "execution_count": 413,
   "metadata": {},
   "outputs": [
    {
     "name": "stdout",
     "output_type": "stream",
     "text": [
      "['序号', '产品名称', '所属公司', '参与轮次', '投资时间', '投资金额', '产品介绍']\n"
     ]
    }
   ],
   "source": [
    "# 获得列名\n",
    "col = table_public.find_element_by_xpath(\"thead\").find_elements_by_tag_name(\"th\")\n",
    "col = [i.text for i in col]\n",
    "print(col)"
   ]
  },
  {
   "cell_type": "code",
   "execution_count": 414,
   "metadata": {},
   "outputs": [],
   "source": [
    "# 获得数据, 针对特定单元在html中实际为table进行特判制定不同爬取方法\n",
    "pattern_1 = \"tbody/tr[$]/td[?]\"\n",
    "pattern_2 = \"tbody/tr[$]/td[?]//td[2]\"\n",
    "pattern_3 = \"tbody/tr[$]/td[7]/div/div\"\n",
    "indi = {}\n",
    "rows = []\n",
    "flag = 1\n",
    "while flag:\n",
    "    # 翻页后需要重新定位，否则会有报错\n",
    "    table_public = driver.find_element_by_xpath(\"//span[@class = 'text' and contains(text(), '公开投资事件')]/../../div[@class='block-data']/div/table\")\n",
    "    total_td = len(table_public.find_element_by_xpath(\"tbody\").find_elements_by_tag_name(\"td\"))\n",
    "    unit_td = len(table_public.find_element_by_xpath(\"tbody/tr[1]\").find_elements_by_tag_name(\"td\"))\n",
    "    num_row = int(total_td/unit_td)\n",
    "    for j in range(1, num_row+1):\n",
    "        cache = []\n",
    "        for i in range(1, 8):\n",
    "            if i in [2, 3]:\n",
    "                table_public = driver.find_element_by_xpath(\"//span[@class = 'text' and contains(text(), '公开投资事件')]/../../div[@class='block-data']/div/table\")\n",
    "                iput = pattern_2.replace(\"?\", str(i))\n",
    "                iput = iput.replace(\"$\", str(j))\n",
    "                content = table_public.find_element_by_xpath(iput).text\n",
    "                cache.append(content)\n",
    "                if i ==2:\n",
    "                    link = table_public.find_element_by_xpath(iput+\"/a\").get_attribute(\"href\")\n",
    "                    indi[content] = link\n",
    "            elif i == 7:\n",
    "                iput = pattern_3.replace(\"$\", str(j))\n",
    "                cache.append(table_public.find_element_by_xpath(iput).text)\n",
    "            else:\n",
    "                iput = pattern_1.replace(\"?\", str(i))\n",
    "                iput = iput.replace(\"$\", str(j))\n",
    "                cache.append(table_public.find_element_by_xpath(iput).text)\n",
    "        rows.append(cache)\n",
    "    try: # 如果没有翻页则改变flag停止循环\n",
    "        next_tag = driver.find_element_by_xpath(\"//*[@id='_investment']//*[@class='num -next']\")\n",
    "        driver.execute_script('arguments[0].click()',next_tag) # 消除覆盖层影响\n",
    "        time.sleep(3)\n",
    "    except Exception:\n",
    "        flag = 0"
   ]
  },
  {
   "cell_type": "code",
   "execution_count": 379,
   "metadata": {},
   "outputs": [],
   "source": [
    "invest = np.array(rows)\n",
    "invest = pd.DataFrame(invest, columns=col)"
   ]
  },
  {
   "cell_type": "code",
   "execution_count": 380,
   "metadata": {},
   "outputs": [
    {
     "data": {
      "text/html": [
       "<div>\n",
       "<style scoped>\n",
       "    .dataframe tbody tr th:only-of-type {\n",
       "        vertical-align: middle;\n",
       "    }\n",
       "\n",
       "    .dataframe tbody tr th {\n",
       "        vertical-align: top;\n",
       "    }\n",
       "\n",
       "    .dataframe thead th {\n",
       "        text-align: right;\n",
       "    }\n",
       "</style>\n",
       "<table border=\"1\" class=\"dataframe\">\n",
       "  <thead>\n",
       "    <tr style=\"text-align: right;\">\n",
       "      <th></th>\n",
       "      <th>产品名称</th>\n",
       "      <th>所属公司</th>\n",
       "      <th>参与轮次</th>\n",
       "      <th>投资时间</th>\n",
       "      <th>投资金额</th>\n",
       "      <th>产品介绍</th>\n",
       "    </tr>\n",
       "    <tr>\n",
       "      <th>序号</th>\n",
       "      <th></th>\n",
       "      <th></th>\n",
       "      <th></th>\n",
       "      <th></th>\n",
       "      <th></th>\n",
       "      <th></th>\n",
       "    </tr>\n",
       "  </thead>\n",
       "  <tbody>\n",
       "    <tr>\n",
       "      <td>1</td>\n",
       "      <td>CREAMS</td>\n",
       "      <td>杭州匠人网络科技有限公司</td>\n",
       "      <td>B+轮</td>\n",
       "      <td>2020-04-02</td>\n",
       "      <td>5000万人民币</td>\n",
       "      <td>匠人网络于2016年4月正式推出商业不动产资产管理体系——CREAMS。经过近两年的大力推广...</td>\n",
       "    </tr>\n",
       "    <tr>\n",
       "      <td>2</td>\n",
       "      <td>绿洲VR</td>\n",
       "      <td>上海唯二网络科技有限公司</td>\n",
       "      <td>A轮</td>\n",
       "      <td>2020-02-20</td>\n",
       "      <td>千万级美元</td>\n",
       "      <td>唯二科技主要运营的产品叫“绿洲Oasis”，灵感来自于小说《玩家一号》（被斯皮尔伯格拍成电影...</td>\n",
       "    </tr>\n",
       "    <tr>\n",
       "      <td>3</td>\n",
       "      <td>深尚科技</td>\n",
       "      <td>北京深尚科技有限公司</td>\n",
       "      <td>天使轮</td>\n",
       "      <td>2019-12-27</td>\n",
       "      <td>600万美元</td>\n",
       "      <td>深尚科技是一家时尚产业解决方案提供商，致力于用AI提供设计相关的时尚产业解决方案。目前深尚科...</td>\n",
       "    </tr>\n",
       "    <tr>\n",
       "      <td>4</td>\n",
       "      <td>ONES</td>\n",
       "      <td>深圳复临科技有限公司</td>\n",
       "      <td>B轮</td>\n",
       "      <td>2019-12-24</td>\n",
       "      <td>千万级美元</td>\n",
       "      <td>ONES是一个一站式研发项目管理平台，它的目标客户是以软件研发为核心、人数超过100人的中大...</td>\n",
       "    </tr>\n",
       "    <tr>\n",
       "      <td>5</td>\n",
       "      <td>超参数科技</td>\n",
       "      <td>超参数科技（深圳）有限公司</td>\n",
       "      <td>A轮</td>\n",
       "      <td>2019-12-13</td>\n",
       "      <td>千万级美元</td>\n",
       "      <td>超参数科技（深圳）有限公司是一家专注于游戏AI探索的初创公司，主攻机器学习、强化学习、大系统...</td>\n",
       "    </tr>\n",
       "  </tbody>\n",
       "</table>\n",
       "</div>"
      ],
      "text/plain": [
       "      产品名称           所属公司 参与轮次        投资时间      投资金额  \\\n",
       "序号                                                     \n",
       "1   CREAMS   杭州匠人网络科技有限公司  B+轮  2020-04-02  5000万人民币   \n",
       "2     绿洲VR   上海唯二网络科技有限公司   A轮  2020-02-20     千万级美元   \n",
       "3     深尚科技     北京深尚科技有限公司  天使轮  2019-12-27    600万美元   \n",
       "4     ONES     深圳复临科技有限公司   B轮  2019-12-24     千万级美元   \n",
       "5    超参数科技  超参数科技（深圳）有限公司   A轮  2019-12-13     千万级美元   \n",
       "\n",
       "                                                 产品介绍  \n",
       "序号                                                     \n",
       "1   匠人网络于2016年4月正式推出商业不动产资产管理体系——CREAMS。经过近两年的大力推广...  \n",
       "2   唯二科技主要运营的产品叫“绿洲Oasis”，灵感来自于小说《玩家一号》（被斯皮尔伯格拍成电影...  \n",
       "3   深尚科技是一家时尚产业解决方案提供商，致力于用AI提供设计相关的时尚产业解决方案。目前深尚科...  \n",
       "4   ONES是一个一站式研发项目管理平台，它的目标客户是以软件研发为核心、人数超过100人的中大...  \n",
       "5   超参数科技（深圳）有限公司是一家专注于游戏AI探索的初创公司，主攻机器学习、强化学习、大系统...  "
      ]
     },
     "execution_count": 380,
     "metadata": {},
     "output_type": "execute_result"
    }
   ],
   "source": [
    "invest.set_index([\"序号\"], inplace=True)\n",
    "invest.head()"
   ]
  },
  {
   "cell_type": "code",
   "execution_count": 339,
   "metadata": {},
   "outputs": [],
   "source": [
    "invest.to_excel(\"investment.xls\")"
   ]
  },
  {
   "cell_type": "markdown",
   "metadata": {},
   "source": [
    "## 历史融资进程"
   ]
  },
  {
   "cell_type": "code",
   "execution_count": 418,
   "metadata": {},
   "outputs": [],
   "source": [
    "# 定义投资者和新闻来源搜寻函数\n",
    "def get_investors(row, col):\n",
    "    table_public = driver.find_element_by_xpath(\"//table[@class = 'table -rongzi -sort']\")\n",
    "    res = []\n",
    "    pattern = \"tbody/tr[{}]/td[{}]\".format(str(row), str(col))\n",
    "    l = table_public.find_element_by_xpath(pattern).find_elements_by_tag_name(\"a\")\n",
    "    for i in l:\n",
    "        res.append(i.text)\n",
    "    return res"
   ]
  },
  {
   "cell_type": "code",
   "execution_count": 451,
   "metadata": {},
   "outputs": [],
   "source": [
    "# 搜索数据并保存为一个DataFrame， 新增列“公司名”\n",
    "def get_history(company):\n",
    "    url = indi[company]\n",
    "    driver.get(url)\n",
    "    table_public = driver.find_element_by_xpath(\"//table[@class = 'table -rongzi -sort']\")\n",
    "    col = table_public.find_element_by_xpath(\"thead\").find_elements_by_tag_name(\"th\")\n",
    "    col = [i.text for i in col]\n",
    "    pattern_1 = \"tbody/tr[$]/td[?]\"\n",
    "    pattern_2 = \"tbody/tr[$]/td[?]//td[2]\"\n",
    "    pattern_3 = \"tbody/tr[$]/td[7]/div/div\"\n",
    "    rows = []\n",
    "    flag = 1\n",
    "    count = 0\n",
    "    table_public = driver.find_element_by_xpath(\"//table[@class = 'table -rongzi -sort']\")\n",
    "    total_td = len(table_public.find_element_by_xpath(\"tbody\").find_elements_by_tag_name(\"td\"))\n",
    "    unit_td = len(table_public.find_element_by_xpath(\"tbody/tr[1]\").find_elements_by_tag_name(\"td\"))\n",
    "    num_row = int(total_td/unit_td)\n",
    "    for j in range(1, num_row+1):\n",
    "        cache = []\n",
    "        for i in range(1, 9):\n",
    "            table_public = driver.find_element_by_xpath(\"//table[@class = 'table -rongzi -sort']\")\n",
    "            if i in [7, 8]:\n",
    "                content = get_investors(j, i)\n",
    "                cache.append(content)\n",
    "            else:\n",
    "                iput = pattern_1.replace(\"?\", str(i))\n",
    "                iput = iput.replace(\"$\", str(j))\n",
    "                cache.append(table_public.find_element_by_xpath(iput).text)\n",
    "        rows.append(cache)\n",
    "    history = np.array(rows)\n",
    "    history = pd.DataFrame(history, columns=col)\n",
    "    history.set_index([\"序号\"], inplace=True)\n",
    "    history[\"公司\"] = company\n",
    "    return history"
   ]
  },
  {
   "cell_type": "code",
   "execution_count": 457,
   "metadata": {},
   "outputs": [],
   "source": [
    "# 合并DataFrame\n",
    "frames = []\n",
    "for company in indi:\n",
    "    frame = get_history(company)\n",
    "    frames.append(frame)\n",
    "    time.sleep(3)"
   ]
  },
  {
   "cell_type": "code",
   "execution_count": 463,
   "metadata": {},
   "outputs": [],
   "source": [
    "history = pd.concat(frames)"
   ]
  },
  {
   "cell_type": "code",
   "execution_count": 465,
   "metadata": {},
   "outputs": [],
   "source": [
    "history = history.reset_index().drop('序号',axis=1)"
   ]
  },
  {
   "cell_type": "code",
   "execution_count": 467,
   "metadata": {},
   "outputs": [],
   "source": [
    "history.to_excel(\"history.xls\")"
   ]
  }
 ],
 "metadata": {
  "kernelspec": {
   "display_name": "Python 3",
   "language": "python",
   "name": "python3"
  },
  "language_info": {
   "codemirror_mode": {
    "name": "ipython",
    "version": 3
   },
   "file_extension": ".py",
   "mimetype": "text/x-python",
   "name": "python",
   "nbconvert_exporter": "python",
   "pygments_lexer": "ipython3",
   "version": "3.7.4"
  }
 },
 "nbformat": 4,
 "nbformat_minor": 2
}
